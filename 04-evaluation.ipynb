{
 "cells": [
  {
   "cell_type": "code",
   "execution_count": 1,
   "metadata": {},
   "outputs": [],
   "source": [
    "import vertexai\n",
    "\n",
    "import  vertexai.agent_engines\n",
    "\n",
    "PROJECT_ID = \"hello-world-418507\"\n",
    "LOCATION = \"us-central1\"\n",
    "STAGING_BUCKET = \"gs://2025-wy-agentspace\"\n",
    "\n",
    "vertexai.init(\n",
    "    project=PROJECT_ID,\n",
    "    location=LOCATION,\n",
    "    staging_bucket=STAGING_BUCKET,\n",
    ")\n",
    "\n",
    "live_app = vertexai.agent_engines.get('projects/671247654914/locations/us-central1/reasoningEngines/3326620808347910144')\n",
    "session = live_app.create_session(user_id=\"u_123\")\n"
   ]
  },
  {
   "cell_type": "code",
   "execution_count": 7,
   "metadata": {},
   "outputs": [
    {
     "data": {
      "text/html": [
       "<div>\n",
       "<style scoped>\n",
       "    .dataframe tbody tr th:only-of-type {\n",
       "        vertical-align: middle;\n",
       "    }\n",
       "\n",
       "    .dataframe tbody tr th {\n",
       "        vertical-align: top;\n",
       "    }\n",
       "\n",
       "    .dataframe thead th {\n",
       "        text-align: right;\n",
       "    }\n",
       "</style>\n",
       "<table border=\"1\" class=\"dataframe\">\n",
       "  <thead>\n",
       "    <tr style=\"text-align: right;\">\n",
       "      <th></th>\n",
       "      <th>prompt</th>\n",
       "      <th>predicted_trajectory</th>\n",
       "      <th>reference_trajectory</th>\n",
       "    </tr>\n",
       "  </thead>\n",
       "  <tbody>\n",
       "    <tr>\n",
       "      <th>0</th>\n",
       "      <td>set the device to off</td>\n",
       "      <td>[{'tool_name': 'set_device_info', 'tool_input'...</td>\n",
       "      <td>[{'tool_name': 'set_device_info', 'tool_input'...</td>\n",
       "    </tr>\n",
       "    <tr>\n",
       "      <th>1</th>\n",
       "      <td>set the temperature to 23</td>\n",
       "      <td>[{'tool_name': 'get_user_preferences', 'tool_i...</td>\n",
       "      <td>[{'tool_name': 'get_user_preferences', 'tool_i...</td>\n",
       "    </tr>\n",
       "  </tbody>\n",
       "</table>\n",
       "</div>"
      ],
      "text/plain": [
       "                      prompt  \\\n",
       "0      set the device to off   \n",
       "1  set the temperature to 23   \n",
       "\n",
       "                                predicted_trajectory  \\\n",
       "0  [{'tool_name': 'set_device_info', 'tool_input'...   \n",
       "1  [{'tool_name': 'get_user_preferences', 'tool_i...   \n",
       "\n",
       "                                reference_trajectory  \n",
       "0  [{'tool_name': 'set_device_info', 'tool_input'...  \n",
       "1  [{'tool_name': 'get_user_preferences', 'tool_i...  "
      ]
     },
     "execution_count": 7,
     "metadata": {},
     "output_type": "execute_result"
    }
   ],
   "source": [
    "import pandas as pd\n",
    "\n",
    "eval_dataset = pd.DataFrame({\n",
    "\"prompt\": [\n",
    "    \"set the device to off\",\n",
    "    \"set the temperature to 23\"\n",
    "],\n",
    "\"predicted_trajectory\": [\n",
    "    [ # example 1\n",
    "    {\n",
    "        \"tool_name\": \"set_device_info\",\n",
    "        \"tool_input\": {\"device_id\": \"device_3\", \"updates\": {\"status\": \"OFF\"}}\n",
    "    },\n",
    "    ],\n",
    "    [ # example 2\n",
    "    {\n",
    "        \"tool_name\": \"get_user_preferences\",\n",
    "        \"tool_input\": {\"user_id\": \"user_z\"},\n",
    "    }, {\n",
    "        \"tool_name\": \"set_temperature\",\n",
    "        \"tool_input\": {\"location\": \"Living Room\", \"temperature\": 23},\n",
    "    },\n",
    "    ]\n",
    "],\n",
    "\"reference_trajectory\": [\n",
    "    [ # example 1\n",
    "    {\n",
    "        \"tool_name\": \"set_device_info\",\n",
    "        \"tool_input\": {\"device_id\": \"device_2\", \"updates\": {\"status\": \"OFF\"}},\n",
    "    },\n",
    "    ],\n",
    "    [ # example 2\n",
    "    {\n",
    "        \"tool_name\": \"get_user_preferences\",\n",
    "        \"tool_input\": {\"user_id\": \"user_y\"},\n",
    "    }, {\n",
    "        \"tool_name\": \"set_temperature\",\n",
    "        \"tool_input\": {\"location\": \"Living Room\", \"temperature\": 23},\n",
    "    },\n",
    "    ],\n",
    "],\n",
    "})\n",
    "\n",
    "eval_dataset.head(2)"
   ]
  },
  {
   "cell_type": "markdown",
   "metadata": {},
   "source": [
    "## Waiting for support"
   ]
  },
  {
   "cell_type": "code",
   "execution_count": 9,
   "metadata": {},
   "outputs": [],
   "source": [
    "# from vertexai.preview.evaluation import EvalTask\n",
    "\n",
    "# metrics = []\n",
    "# metrics.append(\"trajectory_exact_match\")\n",
    "# eval_task = EvalTask(dataset=eval_dataset, metrics=metrics)\n",
    "# eval_result = eval_task.evaluate(runnable=live_app)"
   ]
  },
  {
   "cell_type": "code",
   "execution_count": null,
   "metadata": {},
   "outputs": [],
   "source": []
  }
 ],
 "metadata": {
  "kernelspec": {
   "display_name": ".venv",
   "language": "python",
   "name": "python3"
  },
  "language_info": {
   "codemirror_mode": {
    "name": "ipython",
    "version": 3
   },
   "file_extension": ".py",
   "mimetype": "text/x-python",
   "name": "python",
   "nbconvert_exporter": "python",
   "pygments_lexer": "ipython3",
   "version": "3.12.9"
  }
 },
 "nbformat": 4,
 "nbformat_minor": 2
}
